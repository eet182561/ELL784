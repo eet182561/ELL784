{
 "cells": [
  {
   "cell_type": "code",
   "execution_count": 1,
   "id": "aa70447c",
   "metadata": {},
   "outputs": [],
   "source": [
    "import cv2\n",
    "import matplotlib.pyplot as plt\n",
    "import numpy as np"
   ]
  },
  {
   "cell_type": "code",
   "execution_count": 89,
   "id": "440d0ea6",
   "metadata": {},
   "outputs": [],
   "source": [
    "#Configuration\n",
    "\n",
    "K = 5 #Number of mixture models\n",
    "eps = 1e-10\n",
    "in_video_file_path = 'Data/umcp.mpg' #path to input audio\n",
    "out_path = '' #directory for foreground and background videos"
   ]
  },
  {
   "cell_type": "code",
   "execution_count": 3,
   "id": "5c7798f6",
   "metadata": {},
   "outputs": [],
   "source": [
    "in_video = cv2.VideoCapture(in_video_file_path)"
   ]
  },
  {
   "cell_type": "code",
   "execution_count": 4,
   "id": "ed405e5d",
   "metadata": {},
   "outputs": [],
   "source": [
    "\n",
    "K = 5"
   ]
  },
  {
   "cell_type": "code",
   "execution_count": 5,
   "id": "e46ca0ec",
   "metadata": {},
   "outputs": [
    {
     "data": {
      "text/plain": [
       "(240, 352, 3)"
      ]
     },
     "execution_count": 5,
     "metadata": {},
     "output_type": "execute_result"
    }
   ],
   "source": [
    "in_video.read()[1].shape"
   ]
  },
  {
   "cell_type": "code",
   "execution_count": 60,
   "id": "e5465f41",
   "metadata": {},
   "outputs": [],
   "source": [
    "#model\n",
    "\n",
    "#frame_size\n",
    "\n",
    "frame_size = (in_video.read()[1]).shape[:2]\n",
    "frame_size = (2,2)\n",
    "#For each pixel, K set of mean,var and pi are required; Where mean and variance can be vectors and pi is scalar\n",
    "pi = np.ones((*frame_size,K))/K # pi-> (MxNxK)\n",
    "mean = np.zeros((*frame_size,3,K))\n",
    "var = np.ones((*frame_size,3,K))/K/K #Covariance matrix is assumed to be diagonal\n",
    "x = np.random.randn(*frame_size,3,1)"
   ]
  },
  {
   "cell_type": "code",
   "execution_count": 27,
   "id": "ac8c272c",
   "metadata": {},
   "outputs": [
    {
     "data": {
      "text/plain": [
       "((2, 3, 3, 5), (2, 3, 3, 5))"
      ]
     },
     "execution_count": 27,
     "metadata": {},
     "output_type": "execute_result"
    }
   ],
   "source": [
    "(mean-x).shape, var.shape"
   ]
  },
  {
   "cell_type": "code",
   "execution_count": 29,
   "id": "ca5ac74a",
   "metadata": {},
   "outputs": [
    {
     "data": {
      "text/plain": [
       "(2, 3, 3, 5)"
      ]
     },
     "execution_count": 29,
     "metadata": {},
     "output_type": "execute_result"
    }
   ],
   "source": [
    "((mean-x)* var).shape"
   ]
  },
  {
   "cell_type": "code",
   "execution_count": 46,
   "id": "adbf16fd",
   "metadata": {},
   "outputs": [
    {
     "name": "stdout",
     "output_type": "stream",
     "text": [
      "[ 4  9 14] [ 4  9 14]\n"
     ]
    },
    {
     "data": {
      "text/plain": [
       "array([[[[1., 1., 1., 1., 1.],\n",
       "         [1., 1., 1., 1., 1.],\n",
       "         [1., 1., 1., 1., 1.]],\n",
       "\n",
       "        [[1., 1., 1., 1., 1.],\n",
       "         [1., 1., 1., 1., 1.],\n",
       "         [1., 1., 1., 1., 1.]]],\n",
       "\n",
       "\n",
       "       [[[1., 1., 1., 1., 1.],\n",
       "         [1., 1., 1., 1., 1.],\n",
       "         [1., 1., 1., 1., 1.]],\n",
       "\n",
       "        [[1., 1., 1., 1., 1.],\n",
       "         [1., 1., 1., 1., 1.],\n",
       "         [1., 1., 1., 1., 1.]]]])"
      ]
     },
     "execution_count": 46,
     "metadata": {},
     "output_type": "execute_result"
    }
   ],
   "source": [
    "a = np.arange(2*2*3*5).reshape(2,2,3,5)\n",
    "a_swap = np.swapaxes(a,2,3)\n",
    "print(a[0,0,:,4],a_swap[0,0,4,:])\n",
    "\n",
    "b = np.ones(2*2*3*5).reshape(2,2,3,5)\n",
    "b"
   ]
  },
  {
   "cell_type": "code",
   "execution_count": 37,
   "id": "72532a68",
   "metadata": {},
   "outputs": [
    {
     "ename": "ValueError",
     "evalue": "matmul: Input operand 1 has a mismatch in its core dimension 0, with gufunc signature (n?,k),(k,m?)->(n?,m?) (size 3 is different from 1)",
     "output_type": "error",
     "traceback": [
      "\u001b[0;31m---------------------------------------------------------------------------\u001b[0m",
      "\u001b[0;31mValueError\u001b[0m                                Traceback (most recent call last)",
      "Cell \u001b[0;32mIn[37], line 3\u001b[0m\n\u001b[1;32m      1\u001b[0m a \u001b[38;5;241m=\u001b[39m np\u001b[38;5;241m.\u001b[39marray([\u001b[38;5;241m2\u001b[39m,\u001b[38;5;241m2\u001b[39m,\u001b[38;5;241m3\u001b[39m])\n\u001b[1;32m      2\u001b[0m b \u001b[38;5;241m=\u001b[39m np\u001b[38;5;241m.\u001b[39marray([[\u001b[38;5;241m4\u001b[39m],[\u001b[38;5;241m1\u001b[39m],[\u001b[38;5;241m2\u001b[39m]])\n\u001b[0;32m----> 3\u001b[0m \u001b[43mnp\u001b[49m\u001b[38;5;241;43m.\u001b[39;49m\u001b[43mmatmul\u001b[49m\u001b[43m(\u001b[49m\u001b[43mb\u001b[49m\u001b[43m,\u001b[49m\u001b[43ma\u001b[49m\u001b[43m)\u001b[49m\n",
      "\u001b[0;31mValueError\u001b[0m: matmul: Input operand 1 has a mismatch in its core dimension 0, with gufunc signature (n?,k),(k,m?)->(n?,m?) (size 3 is different from 1)"
     ]
    }
   ],
   "source": [
    "a = np.array([2,2,3])\n",
    "b = np.array([[4],[1],[2]])\n",
    "np.matmul(b,a)"
   ]
  },
  {
   "cell_type": "code",
   "execution_count": 97,
   "id": "0582c1e9",
   "metadata": {},
   "outputs": [],
   "source": [
    "# utility functions\n",
    "\n",
    "def gpdf(x,mean,var):\n",
    "    #gaussian probability density function\n",
    "    mahalD = np.sum(((x-mean)* (1/(var+eps)))*(x-mean),axis=2)\n",
    "    return 1/(np.sqrt(2*np.pi*np.sum(var*var,axis=2)))"
   ]
  },
  {
   "cell_type": "code",
   "execution_count": 96,
   "id": "0713d462",
   "metadata": {},
   "outputs": [
    {
     "data": {
      "text/plain": [
       "3.141592653589793"
      ]
     },
     "execution_count": 96,
     "metadata": {},
     "output_type": "execute_result"
    }
   ],
   "source": [
    "np.pi"
   ]
  },
  {
   "cell_type": "code",
   "execution_count": 98,
   "id": "19c54357",
   "metadata": {},
   "outputs": [
    {
     "data": {
      "text/plain": [
       "(2, 2, 5)"
      ]
     },
     "execution_count": 98,
     "metadata": {},
     "output_type": "execute_result"
    }
   ],
   "source": [
    "#x = np.ones_like(mean)\n",
    "\n",
    "gpdf(x,mean,var).shape"
   ]
  },
  {
   "cell_type": "code",
   "execution_count": 67,
   "id": "dba61621",
   "metadata": {},
   "outputs": [
    {
     "data": {
      "text/plain": [
       "(array([[[ 0.65854413, -0.54424687, -0.4596294 ],\n",
       "         [-1.77696123, -0.55935803, -0.09846363]],\n",
       " \n",
       "        [[ 0.59684634,  1.14784853, -0.53364428],\n",
       "         [ 0.08879543,  0.77681138, -0.86317912]]]),\n",
       " array([[[0.04, 0.04, 0.04],\n",
       "         [0.04, 0.04, 0.04]],\n",
       " \n",
       "        [[0.04, 0.04, 0.04],\n",
       "         [0.04, 0.04, 0.04]]]))"
      ]
     },
     "execution_count": 67,
     "metadata": {},
     "output_type": "execute_result"
    }
   ],
   "source": [
    "x[:,:,:,0]-mean[:,:,:,0],var[:,:,:,0]"
   ]
  },
  {
   "cell_type": "code",
   "execution_count": 75,
   "id": "07fee64a",
   "metadata": {},
   "outputs": [
    {
     "data": {
      "text/plain": [
       "array([[[ 0.65854413, -0.54424687, -0.4596294 ],\n",
       "        [-1.77696123, -0.55935803, -0.09846363]],\n",
       "\n",
       "       [[ 0.59684634,  1.14784853, -0.53364428],\n",
       "        [ 0.08879543,  0.77681138, -0.86317912]]])"
      ]
     },
     "execution_count": 75,
     "metadata": {},
     "output_type": "execute_result"
    }
   ],
   "source": [
    "x[:,:,:,0]"
   ]
  },
  {
   "cell_type": "code",
   "execution_count": 76,
   "id": "1d49fd7a",
   "metadata": {},
   "outputs": [
    {
     "data": {
      "text/plain": [
       "array([[0.03764577, 0.13920671],\n",
       "       [0.07834232, 0.05425595]])"
      ]
     },
     "execution_count": 76,
     "metadata": {},
     "output_type": "execute_result"
    }
   ],
   "source": [
    "np.sum((x-mean)* var*(x-mean),axis=2)[:,:,0]"
   ]
  },
  {
   "cell_type": "code",
   "execution_count": 85,
   "id": "a92ee776",
   "metadata": {},
   "outputs": [
    {
     "data": {
      "text/plain": [
       "0.03764576848026456"
      ]
     },
     "execution_count": 85,
     "metadata": {},
     "output_type": "execute_result"
    }
   ],
   "source": [
    "(0.65854413**2)*0.04 + (0.54424687**2)*0.04 + 0.4596294**2*0.04"
   ]
  },
  {
   "cell_type": "code",
   "execution_count": 84,
   "id": "cb7f8879",
   "metadata": {},
   "outputs": [
    {
     "data": {
      "text/plain": [
       "(0.017347214846298278, -0.011848186220191879)"
      ]
     },
     "execution_count": 84,
     "metadata": {},
     "output_type": "execute_result"
    }
   ],
   "source": [
    "(0.65854413**2)*0.04,(-0.54424687**2)*0.04"
   ]
  },
  {
   "cell_type": "code",
   "execution_count": 83,
   "id": "3f0c04b8",
   "metadata": {},
   "outputs": [
    {
     "data": {
      "text/plain": [
       "array([[[0.01734721, 0.01184819, 0.00845037],\n",
       "        [0.12630365, 0.01251526, 0.0003878 ]],\n",
       "\n",
       "       [[0.01424902, 0.05270225, 0.01139105],\n",
       "        [0.00031539, 0.02413744, 0.02980313]]])"
      ]
     },
     "execution_count": 83,
     "metadata": {},
     "output_type": "execute_result"
    }
   ],
   "source": [
    "((x-mean)* var*(x-mean))[:,:,:,0]"
   ]
  },
  {
   "cell_type": "code",
   "execution_count": null,
   "id": "115d13ee",
   "metadata": {},
   "outputs": [],
   "source": []
  }
 ],
 "metadata": {
  "kernelspec": {
   "display_name": "Python 3 (ipykernel)",
   "language": "python",
   "name": "python3"
  },
  "language_info": {
   "codemirror_mode": {
    "name": "ipython",
    "version": 3
   },
   "file_extension": ".py",
   "mimetype": "text/x-python",
   "name": "python",
   "nbconvert_exporter": "python",
   "pygments_lexer": "ipython3",
   "version": "3.8.10"
  }
 },
 "nbformat": 4,
 "nbformat_minor": 5
}
