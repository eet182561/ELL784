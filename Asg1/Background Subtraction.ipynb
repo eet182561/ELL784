{
 "cells": [
  {
   "cell_type": "code",
   "execution_count": 1,
   "id": "aa70447c",
   "metadata": {},
   "outputs": [],
   "source": [
    "import cv2\n",
    "import numpy as np\n",
    "from scipy.signal import convolve2d\n",
    "from tqdm import tqdm"
   ]
  },
  {
   "cell_type": "code",
   "execution_count": 2,
   "id": "440d0ea6",
   "metadata": {},
   "outputs": [],
   "source": [
    "#Configuration\n",
    "\n",
    "K = 5 #Number of mixture models\n",
    "T = 0.2 #Min portion of data accounted for Background\n",
    "alpha=0.5 #pi update param\n",
    "eps = 1e-5\n",
    "low_prior_weight = 0.01\n",
    "inf = 1e9\n",
    "high_variance=1\n",
    "in_video_file_path = 'Data/umcp.mpg' #path to input audio\n",
    "out_path = '' #directory for foreground and background videos\n",
    "frame_size = (240,352)"
   ]
  },
  {
   "cell_type": "code",
   "execution_count": 3,
   "id": "e5465f41",
   "metadata": {},
   "outputs": [],
   "source": [
    "#model params\n",
    "\n",
    "#For each pixel, K set of mean,var and pi are required; \n",
    "pi = np.ones((*frame_size,K))/K # pi-> (MxNxK)\n",
    "mean = np.zeros((*frame_size,K))\n",
    "var = np.ones((*frame_size,K))/K/K #Covariance matrix\n",
    "\n",
    "params = {\n",
    "    'pi':pi,\n",
    "    'mean':mean,\n",
    "    'var':var,\n",
    "    'sorted_gaussians_idx': None,\n",
    "    'B' : None\n",
    "}"
   ]
  },
  {
   "cell_type": "code",
   "execution_count": 4,
   "id": "0582c1e9",
   "metadata": {},
   "outputs": [],
   "source": [
    "# utils\n",
    "import warnings\n",
    "np.seterr(all='warn')\n",
    "warnings.filterwarnings('error')\n",
    "def KNN(x):\n",
    "    win_size = 5\n",
    "    win = np.ones((win_size,win_size))/(win_size*win_size)\n",
    "    out = convolve2d(x.squeeze(),win,mode='same')\n",
    "    out = (out>0.5)*1\n",
    "    return out[:,:,np.newaxis]\n",
    "\n",
    "def gpdf_gray(x,params):\n",
    "    #gaussian probability density function\n",
    "    mean = params['mean']\n",
    "    var = params['var']\n",
    "    mahalD = (x-mean)*(x-mean)/(var+eps)\n",
    "    mdn = mahalD>100\n",
    "    mahalD = mahalD*(1-mdn)+ mdn*100           \n",
    "    return 1/(np.sqrt(2*np.pi*(var+eps))) * np.exp(-mahalD/2)\n",
    "\n",
    "def update_params(x,params,M,alpha=alpha):\n",
    "    #M is a bool matrix(true and false)\n",
    "    rho = alpha*gpdf_gray(x,params)\n",
    "    for r in range(M.shape[0]):\n",
    "        for c in range(M.shape[1]):\n",
    "            no_match = True\n",
    "            for k in range(M.shape[2]):\n",
    "                if M[r][c][k]:\n",
    "                    no_match = False\n",
    "                    break\n",
    "            if no_match:\n",
    "                # replace the least probable distribution\n",
    "                min_dist_idx = np.argmin(params['pi'][r][c])\n",
    "                params['pi'][r][c][min_dist_idx] = low_prior_weight\n",
    "                params['mean'][r][c][min_dist_idx] = x[r][c]\n",
    "                params['var'][r][c][min_dist_idx] = high_variance\n",
    "            else:\n",
    "                for k in range(M.shape[2]):\n",
    "                    params['pi'][r][c][k] = (1-alpha)*params['pi'][r][c][k] + alpha*M[r][c][k]\n",
    "                    \n",
    "                    if M[r][c][k] == True:\n",
    "                        if rho[r][c][k] > 1:\n",
    "                            rho[r][c][k] = 0.99\n",
    "                        params['mean'][r][c][k] = (1-rho[r][c][k])*params['mean'][r][c][k] + \\\n",
    "                                                  rho[r][c][k]*x[r][c]\n",
    "\n",
    "                        params['var'][r][c][k] = ((1-rho[r][c][k])*params['var'][r][c][k] \\\n",
    "                                              + rho[r][c][k]*((x[r][c]-params['mean'][r][c][k])**2))\n",
    "                \n",
    "                \n",
    "            if params['var'][r][c][k] < 0:\n",
    "                params['var'][r][c][k] *= (-1)\n",
    "            # renormalise\n",
    "    params['pi'] = params['pi']/np.sum(params['pi'],axis=2)[:,:,np.newaxis]\n",
    "                    \n",
    "            \n",
    "\n",
    "def matching(x,params):\n",
    "    #if x-mean < 2.5*var then its a match\n",
    "    mean = params['mean']\n",
    "    var = params['var']\n",
    "    return np.abs(x-mean) < 2.5*var\n",
    "\n",
    "def background_model(x,params):\n",
    "    pi_by_var = -1*params['pi']/np.sqrt(params['var'] + eps)\n",
    "    params['sorted_gaussians_idx'] = np.argsort(pi_by_var,axis=2)\n",
    "    pi_sorted = -1*np.sort(-1*params['pi'],axis=2)\n",
    "    M = frame_size[0]\n",
    "    N = frame_size[1]\n",
    "    params['B'] = np.zeros_like(x)\n",
    "    for r in range(M):\n",
    "        for c in range(N):\n",
    "            cumsum = 0\n",
    "            for k in range(K):\n",
    "                cumsum += pi_sorted[r][c][k]\n",
    "                params['B'][r][c] = k+1\n",
    "                if cumsum > T:\n",
    "                    break\n",
    "                \n",
    "            \n",
    "\n",
    "    matched = matching(x,params)\n",
    "    background = np.zeros_like(x)\n",
    "    for r in range(M):\n",
    "        for c in range(N):\n",
    "            for k in range(params['B'][r][c][0]):\n",
    "                if matched[r][c][params['sorted_gaussians_idx'][r][c][k]]:\n",
    "                    # classify as background\n",
    "                    background[r][c] = 1\n",
    "                    break\n",
    "    \n",
    "    background = KNN(background)\n",
    "    return background\n",
    "                    "
   ]
  },
  {
   "cell_type": "code",
   "execution_count": 5,
   "id": "5c7798f6",
   "metadata": {
    "scrolled": false
   },
   "outputs": [],
   "source": [
    "#MAIN\n",
    "\n",
    "def main(outFolder):\n",
    "    os.mkdir(f'{outFolder}/background')\n",
    "    os.mkdir(f'{outFolder}/foreground')\n",
    "    in_video = cv2.VideoCapture(in_video_file_path)\n",
    "    idx=0\n",
    "    with tqdm(total=1000) as pbar:\n",
    "        while (in_video.isOpened()):\n",
    "            rval, frame = in_video.read()\n",
    "            idx +=1 \n",
    "            print(idx)\n",
    "            if rval:\n",
    "                #process frame\n",
    "                frame_gray = cv2.cvtColor(frame, cv2.COLOR_BGR2HSV)[:,:,2] #Take out I from HSI channel\n",
    "                frame_gray = frame_gray[:,:,np.newaxis] #Append new axis for shape matching\n",
    "                M = matching(frame_gray,params) #See if pixels match the model\n",
    "                update_params(frame_gray,params,M) #update the parameters of the model based on matched value\n",
    "                fg = 1 - background_model(frame_gray,params) #Get foreground mask by subtracting the background mask \n",
    "\n",
    "                #Back conversion into of I values to HSI\n",
    "                frame_fg_gray = (fg.astype('uint8')*frame_gray).squeeze()\n",
    "                frame_hsv = cv2.cvtColor(frame, cv2.COLOR_BGR2HSV)\n",
    "                frame_fg_hsv =np.concatenate((frame_hsv[:,:,:2],frame_fg_gray[:,:,np.newaxis]),axis=2)\n",
    "\n",
    "                #Back Conversion to color\n",
    "                frame_fg_color = cv2.cvtColor(frame_fg_hsv,cv2.COLOR_HSV2BGR)\n",
    "                frame_bg_color = frame - frame_fg_color\n",
    "\n",
    "                #writing images\n",
    "                cv2.imwrite(f'{outFolder}/background/background_{idx:03d}.png',frame_bg_color)\n",
    "                cv2.imwrite(f'{outFolder}/foreground/foreground_{idx:03d}.png',frame_fg_color)\n",
    "\n",
    "            else:\n",
    "                break\n",
    "            pbar.update(1)\n",
    "    !ffmpeg -framerate 30 -i $outFolder/background/background_%03d.png -c:v libx264 -profile:v high -crf 20 -pix_fmt yuv420p $outFolder/background.mp4\n",
    "    !ffmpeg -framerate 30 -i $outFolder/foreground/foreground_%03d.png -c:v libx264 -profile:v high -crf 20 -pix_fmt yuv420p $outFolder/foreground.mp4\n",
    "            \n",
    "    shutil.rmtree(f'{outFolder}/background')\n",
    "    shutil.rmtree(f'{outFolder}/foreground')\n",
    "    in_video.release()"
   ]
  },
  {
   "cell_type": "code",
   "execution_count": null,
   "id": "d51e4d55",
   "metadata": {},
   "outputs": [
    {
     "name": "stderr",
     "output_type": "stream",
     "text": [
      "\r",
      "  0%|                                                  | 0/1000 [00:00<?, ?it/s]"
     ]
    },
    {
     "name": "stdout",
     "output_type": "stream",
     "text": [
      "1\n"
     ]
    },
    {
     "name": "stderr",
     "output_type": "stream",
     "text": [
      "\r",
      "  0%|                                          | 1/1000 [00:01<29:27,  1.77s/it]"
     ]
    },
    {
     "name": "stdout",
     "output_type": "stream",
     "text": [
      "2\n"
     ]
    },
    {
     "name": "stderr",
     "output_type": "stream",
     "text": [
      "\r",
      "  0%|                                          | 2/1000 [00:05<43:59,  2.64s/it]"
     ]
    },
    {
     "name": "stdout",
     "output_type": "stream",
     "text": [
      "3\n"
     ]
    },
    {
     "name": "stderr",
     "output_type": "stream",
     "text": [
      "\r",
      "  0%|▏                                         | 3/1000 [00:08<48:49,  2.94s/it]"
     ]
    },
    {
     "name": "stdout",
     "output_type": "stream",
     "text": [
      "4\n"
     ]
    },
    {
     "name": "stderr",
     "output_type": "stream",
     "text": [
      "\r",
      "  0%|▏                                         | 4/1000 [00:12<53:58,  3.25s/it]"
     ]
    },
    {
     "name": "stdout",
     "output_type": "stream",
     "text": [
      "5\n"
     ]
    },
    {
     "name": "stderr",
     "output_type": "stream",
     "text": [
      "\r",
      "  0%|▏                                         | 5/1000 [00:15<56:57,  3.43s/it]"
     ]
    },
    {
     "name": "stdout",
     "output_type": "stream",
     "text": [
      "6\n"
     ]
    },
    {
     "name": "stderr",
     "output_type": "stream",
     "text": [
      "\r",
      "  1%|▎                                         | 6/1000 [00:19<59:15,  3.58s/it]"
     ]
    },
    {
     "name": "stdout",
     "output_type": "stream",
     "text": [
      "7\n"
     ]
    },
    {
     "name": "stderr",
     "output_type": "stream",
     "text": [
      "\r",
      "  1%|▎                                         | 7/1000 [00:23<59:29,  3.60s/it]"
     ]
    },
    {
     "name": "stdout",
     "output_type": "stream",
     "text": [
      "8\n"
     ]
    },
    {
     "name": "stderr",
     "output_type": "stream",
     "text": [
      "\r",
      "  1%|▎                                       | 8/1000 [00:27<1:00:27,  3.66s/it]"
     ]
    },
    {
     "name": "stdout",
     "output_type": "stream",
     "text": [
      "9\n"
     ]
    },
    {
     "name": "stderr",
     "output_type": "stream",
     "text": [
      "\r",
      "  1%|▎                                       | 9/1000 [00:30<1:00:25,  3.66s/it]"
     ]
    },
    {
     "name": "stdout",
     "output_type": "stream",
     "text": [
      "10\n"
     ]
    },
    {
     "name": "stderr",
     "output_type": "stream",
     "text": [
      "\r",
      "  1%|▍                                      | 10/1000 [00:34<1:00:24,  3.66s/it]"
     ]
    },
    {
     "name": "stdout",
     "output_type": "stream",
     "text": [
      "11\n"
     ]
    },
    {
     "name": "stderr",
     "output_type": "stream",
     "text": [
      "\r",
      "  1%|▍                                      | 11/1000 [00:38<1:01:22,  3.72s/it]"
     ]
    },
    {
     "name": "stdout",
     "output_type": "stream",
     "text": [
      "12\n"
     ]
    },
    {
     "name": "stderr",
     "output_type": "stream",
     "text": [
      "\r",
      "  1%|▍                                      | 12/1000 [00:42<1:02:29,  3.79s/it]"
     ]
    },
    {
     "name": "stdout",
     "output_type": "stream",
     "text": [
      "13\n"
     ]
    },
    {
     "name": "stderr",
     "output_type": "stream",
     "text": [
      "\r",
      "  1%|▌                                      | 13/1000 [00:46<1:02:53,  3.82s/it]"
     ]
    },
    {
     "name": "stdout",
     "output_type": "stream",
     "text": [
      "14\n"
     ]
    },
    {
     "name": "stderr",
     "output_type": "stream",
     "text": [
      "\r",
      "  1%|▌                                      | 14/1000 [00:49<1:02:52,  3.83s/it]"
     ]
    },
    {
     "name": "stdout",
     "output_type": "stream",
     "text": [
      "15\n"
     ]
    },
    {
     "name": "stderr",
     "output_type": "stream",
     "text": [
      "\r",
      "  2%|▌                                      | 15/1000 [00:53<1:03:25,  3.86s/it]"
     ]
    },
    {
     "name": "stdout",
     "output_type": "stream",
     "text": [
      "16\n"
     ]
    },
    {
     "name": "stderr",
     "output_type": "stream",
     "text": [
      "\r",
      "  2%|▌                                      | 16/1000 [00:58<1:06:02,  4.03s/it]"
     ]
    },
    {
     "name": "stdout",
     "output_type": "stream",
     "text": [
      "17\n"
     ]
    },
    {
     "name": "stderr",
     "output_type": "stream",
     "text": [
      "\r",
      "  2%|▋                                      | 17/1000 [01:02<1:07:06,  4.10s/it]"
     ]
    },
    {
     "name": "stdout",
     "output_type": "stream",
     "text": [
      "18\n"
     ]
    },
    {
     "name": "stderr",
     "output_type": "stream",
     "text": [
      "\r",
      "  2%|▋                                      | 18/1000 [01:06<1:06:48,  4.08s/it]"
     ]
    },
    {
     "name": "stdout",
     "output_type": "stream",
     "text": [
      "19\n"
     ]
    },
    {
     "name": "stderr",
     "output_type": "stream",
     "text": [
      "\r",
      "  2%|▋                                      | 19/1000 [01:11<1:10:24,  4.31s/it]"
     ]
    },
    {
     "name": "stdout",
     "output_type": "stream",
     "text": [
      "20\n"
     ]
    },
    {
     "name": "stderr",
     "output_type": "stream",
     "text": [
      "\r",
      "  2%|▊                                      | 20/1000 [01:16<1:11:56,  4.40s/it]"
     ]
    },
    {
     "name": "stdout",
     "output_type": "stream",
     "text": [
      "21\n"
     ]
    },
    {
     "name": "stderr",
     "output_type": "stream",
     "text": [
      "\r",
      "  2%|▊                                      | 21/1000 [01:20<1:09:39,  4.27s/it]"
     ]
    },
    {
     "name": "stdout",
     "output_type": "stream",
     "text": [
      "22\n"
     ]
    },
    {
     "name": "stderr",
     "output_type": "stream",
     "text": [
      "\r",
      "  2%|▊                                      | 22/1000 [01:25<1:13:32,  4.51s/it]"
     ]
    },
    {
     "name": "stdout",
     "output_type": "stream",
     "text": [
      "23\n"
     ]
    }
   ],
   "source": [
    "import os\n",
    "import shutil\n",
    "K = 5\n",
    "T = 0.3\n",
    "alpha = 0.8\n",
    "try:\n",
    "    shutil.rmtree(f'test_{K}_{T}_{alpha}_5')\n",
    "except Exception as e:\n",
    "    pass\n",
    "os.mkdir(f'test_{K}_{T}_{alpha}_5')\n",
    "main(f'test_{K}_{T}_{alpha}_5')"
   ]
  },
  {
   "cell_type": "code",
   "execution_count": null,
   "id": "6101d1c4",
   "metadata": {},
   "outputs": [],
   "source": [
    "import os\n",
    "import shutil\n",
    "K = 5\n",
    "T = 0.7\n",
    "alpha = 0.001\n",
    "os.mkdir(f'test_{K}_{T}_{alpha}_5')\n",
    "main(f'test_{K}_{T}_{alpha}_5')"
   ]
  },
  {
   "cell_type": "code",
   "execution_count": null,
   "id": "09e80ef5",
   "metadata": {},
   "outputs": [],
   "source": [
    "import os\n",
    "import shutil\n",
    "K = 5\n",
    "T = 0.85\n",
    "alpha = 0.1\n",
    "os.mkdir(f'test_{K}_{T}_{alpha}_5')\n",
    "main(f'test_{K}_{T}_{alpha}_5')"
   ]
  },
  {
   "cell_type": "code",
   "execution_count": null,
   "id": "377c337c",
   "metadata": {},
   "outputs": [],
   "source": [
    "import os\n",
    "import shutil\n",
    "K = 5\n",
    "T = 0.08\n",
    "alpha = 0.1\n",
    "os.mkdir(f'test_{K}_{T}_{alpha}_5')\n",
    "main(f'test_{K}_{T}_{alpha}_5')"
   ]
  },
  {
   "cell_type": "code",
   "execution_count": null,
   "id": "fdcb927f",
   "metadata": {},
   "outputs": [],
   "source": [
    "import os\n",
    "import shutil\n",
    "K = 5\n",
    "T = 0.08\n",
    "alpha = 0.01\n",
    "os.mkdir(f'test_{K}_{T}_{alpha}_5')\n",
    "main(f'test_{K}_{T}_{alpha}_5')"
   ]
  },
  {
   "cell_type": "code",
   "execution_count": null,
   "id": "a825da9f",
   "metadata": {},
   "outputs": [],
   "source": [
    "import os\n",
    "import shutil\n",
    "K = 7\n",
    "T = 0.7\n",
    "alpha = 0.3\n",
    "os.mkdir(f'test_{K}_{T}_{alpha}_5')\n",
    "main(f'test_{K}_{T}_{alpha}_5')"
   ]
  },
  {
   "cell_type": "code",
   "execution_count": null,
   "id": "f77565b2",
   "metadata": {},
   "outputs": [],
   "source": [
    "import os\n",
    "import shutil\n",
    "K = 7\n",
    "T = 0.4\n",
    "alpha = 0.01\n",
    "os.mkdir(f'test_{K}_{T}_{alpha}_5')\n",
    "main(f'test_{K}_{T}_{alpha}_5')"
   ]
  },
  {
   "cell_type": "code",
   "execution_count": null,
   "id": "8993f83b",
   "metadata": {},
   "outputs": [],
   "source": []
  },
  {
   "cell_type": "code",
   "execution_count": null,
   "id": "d4577f3b",
   "metadata": {},
   "outputs": [],
   "source": []
  },
  {
   "cell_type": "code",
   "execution_count": null,
   "id": "0925a1e8",
   "metadata": {},
   "outputs": [],
   "source": []
  },
  {
   "cell_type": "code",
   "execution_count": null,
   "id": "c45599c0",
   "metadata": {},
   "outputs": [],
   "source": []
  },
  {
   "cell_type": "code",
   "execution_count": null,
   "id": "25140da8",
   "metadata": {},
   "outputs": [],
   "source": [
    "import os\n",
    "import shutil\n",
    "K = 5\n",
    "T = 0.8\n",
    "alpha = 0.1\n",
    "os.mkdir(f'test_{K}_{T}_{alpha}')\n",
    "main(f'test_{K}_{T}_{alpha}')"
   ]
  },
  {
   "cell_type": "code",
   "execution_count": null,
   "id": "c9608ea7",
   "metadata": {},
   "outputs": [],
   "source": [
    "K = 5\n",
    "T = 0.5\n",
    "alpha = 0.01\n",
    "os.mkdir(f'test_{K}_{T}_{alpha}')\n",
    "main(f'test_{K}_{T}_{alpha}')"
   ]
  },
  {
   "cell_type": "code",
   "execution_count": null,
   "id": "6544d8d6",
   "metadata": {},
   "outputs": [],
   "source": [
    "K = 5\n",
    "T = 0.3\n",
    "alpha = 0.1\n",
    "os.mkdir(f'test_{K}_{T}_{alpha}')\n",
    "main(f'test_{K}_{T}_{alpha}')"
   ]
  },
  {
   "cell_type": "code",
   "execution_count": null,
   "id": "5201168b",
   "metadata": {},
   "outputs": [],
   "source": [
    "K = 5\n",
    "T = 0.3\n",
    "alpha = 0.01\n",
    "os.mkdir(f'test_{K}_{T}_{alpha}')\n",
    "main(f'test_{K}_{T}_{alpha}')"
   ]
  },
  {
   "cell_type": "code",
   "execution_count": null,
   "id": "f782cd3b",
   "metadata": {},
   "outputs": [],
   "source": [
    "K = 4\n",
    "T = 0.4\n",
    "alpha = 0.01\n",
    "os.mkdir(f'test_{K}_{T}_{alpha}')\n",
    "main(f'test_{K}_{T}_{alpha}')"
   ]
  },
  {
   "cell_type": "code",
   "execution_count": null,
   "id": "7667f262",
   "metadata": {},
   "outputs": [],
   "source": [
    "K = 5\n",
    "T = 0.2\n",
    "alpha = 0.05\n",
    "os.mkdir(f'test_{K}_{T}_{alpha}')\n",
    "main(f'test_{K}_{T}_{alpha}')"
   ]
  },
  {
   "cell_type": "code",
   "execution_count": null,
   "id": "bb4e46db",
   "metadata": {},
   "outputs": [],
   "source": []
  }
 ],
 "metadata": {
  "kernelspec": {
   "display_name": "Python 3 (ipykernel)",
   "language": "python",
   "name": "python3"
  },
  "language_info": {
   "codemirror_mode": {
    "name": "ipython",
    "version": 3
   },
   "file_extension": ".py",
   "mimetype": "text/x-python",
   "name": "python",
   "nbconvert_exporter": "python",
   "pygments_lexer": "ipython3",
   "version": "3.8.10"
  }
 },
 "nbformat": 4,
 "nbformat_minor": 5
}
